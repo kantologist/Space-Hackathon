{
 "cells": [
  {
   "cell_type": "code",
   "execution_count": 1,
   "metadata": {
    "collapsed": true
   },
   "outputs": [],
   "source": [
    "import pandas as pd\n",
    "import numpy as np"
   ]
  },
  {
   "cell_type": "code",
   "execution_count": 2,
   "metadata": {
    "collapsed": false
   },
   "outputs": [],
   "source": [
    "barometric = pd.read_csv(\"barometric.csv\", names=[\"row\",\"unix_time\", \"date\", \"time\", \"barometric\", \"unnamned\"])\n",
    "direction = pd.read_csv(\"direction.csv\", names=[\"row\", \"unix_time\", \"date\", \"time\", \"direction\", \"unnamed\"])\n",
    "humidity = pd.read_csv(\"humidity.csv\", names=[\"row\", \"unix_time\", \"date\", \"time\", \"humidity\", \"unnamed\"])\n",
    "radiation = pd.read_csv(\"radiation.csv\", names=[\"row\", \"unix_time\", \"date\", \"time\", \"radiation\", \"unnamed\"])\n",
    "speed = pd.read_csv(\"speed.csv\", names=[\"row\", \"unix_time\", \"date\", \"time\", \"speed\", \"unnamed\"])\n",
    "# sunrise = pd.read_csv(\"sunrise.csv\", names=[\"row\", \"unix_time\", \"date\", \"time\", \"sunrise\", \"unnamed\"])\n",
    "# sunset = pd.read_csv(\"sunset.csv\", names=[\"row\", \"unix_time\", \"date\", \"time\", \"sunset\", \"unnamed\"])\n",
    "temperature = pd.read_csv(\"temperature.csv\", names=[\"row\", \"unix_time\", \"date\", \"time\", \"temp\", \"unnamed\"])"
   ]
  },
  {
   "cell_type": "code",
   "execution_count": 3,
   "metadata": {
    "collapsed": false
   },
   "outputs": [
    {
     "name": "stdout",
     "output_type": "stream",
     "text": [
      "198798\n",
      "198798\n",
      "198798\n",
      "198798\n",
      "198798\n",
      "(33133, 6)\n"
     ]
    }
   ],
   "source": [
    "print barometric.size\n",
    "print direction.size\n",
    "print humidity.size\n",
    "print radiation.size\n",
    "print speed.size\n",
    "# print sunrise.size\n",
    "# print sunset.shape\n",
    "print temperature.shape"
   ]
  },
  {
   "cell_type": "code",
   "execution_count": null,
   "metadata": {
    "collapsed": false
   },
   "outputs": [],
   "source": [
    "barometric.head()"
   ]
  },
  {
   "cell_type": "code",
   "execution_count": 4,
   "metadata": {
    "collapsed": false
   },
   "outputs": [],
   "source": [
    "features = [barometric, direction, humidity, radiation, speed, temperature]\n",
    "for feature in features:\n",
    "    feature.drop(feature.columns[[0,2,3,5]], axis=1, inplace=True)\n",
    "# feature = reduce(lambda left, right: pd.merge(left, right,on=\"unix_time\"), features)\n",
    "# features = iter(features)\n",
    "# feature = next(features)\n",
    "# for df_ in features:\n",
    "#     feature = feature.merge(df_, on='unix_time')\n",
    "# fea = pd.merge(barometric,sunrise, on=\"unix_time\")\n",
    "# fea.count(axis=0)\n",
    "# feature.count(axis=0)"
   ]
  },
  {
   "cell_type": "code",
   "execution_count": null,
   "metadata": {
    "collapsed": false
   },
   "outputs": [],
   "source": [
    "fea.head()"
   ]
  },
  {
   "cell_type": "code",
   "execution_count": 5,
   "metadata": {
    "collapsed": false
   },
   "outputs": [
    {
     "data": {
      "text/plain": [
       "unix_time     33133\n",
       "barometric    33133\n",
       "direction     33133\n",
       "humidity      33133\n",
       "radiation     33133\n",
       "speed         33133\n",
       "temp          33133\n",
       "dtype: int64"
      ]
     },
     "execution_count": 5,
     "metadata": {},
     "output_type": "execute_result"
    }
   ],
   "source": [
    "fea = features[0]\n",
    "for feat in features[1:]:\n",
    "    fea= pd.merge(fea,feat, on=\"unix_time\", how=\"outer\")\n",
    "fea.count(axis=0)    "
   ]
  },
  {
   "cell_type": "code",
   "execution_count": 6,
   "metadata": {
    "collapsed": false
   },
   "outputs": [
    {
     "data": {
      "text/html": [
       "<div>\n",
       "<table border=\"1\" class=\"dataframe\">\n",
       "  <thead>\n",
       "    <tr style=\"text-align: right;\">\n",
       "      <th></th>\n",
       "      <th>unix_time</th>\n",
       "      <th>barometric</th>\n",
       "      <th>direction</th>\n",
       "      <th>humidity</th>\n",
       "      <th>radiation</th>\n",
       "      <th>speed</th>\n",
       "      <th>temp</th>\n",
       "    </tr>\n",
       "  </thead>\n",
       "  <tbody>\n",
       "    <tr>\n",
       "      <th>0</th>\n",
       "      <td>1475315718</td>\n",
       "      <td>30.46</td>\n",
       "      <td>151.95</td>\n",
       "      <td>80</td>\n",
       "      <td>1.27</td>\n",
       "      <td>7.87</td>\n",
       "      <td>48</td>\n",
       "    </tr>\n",
       "    <tr>\n",
       "      <th>1</th>\n",
       "      <td>1475315423</td>\n",
       "      <td>30.46</td>\n",
       "      <td>176.14</td>\n",
       "      <td>79</td>\n",
       "      <td>1.25</td>\n",
       "      <td>7.87</td>\n",
       "      <td>48</td>\n",
       "    </tr>\n",
       "    <tr>\n",
       "      <th>2</th>\n",
       "      <td>1475315124</td>\n",
       "      <td>30.46</td>\n",
       "      <td>177.54</td>\n",
       "      <td>79</td>\n",
       "      <td>1.25</td>\n",
       "      <td>9.00</td>\n",
       "      <td>48</td>\n",
       "    </tr>\n",
       "    <tr>\n",
       "      <th>3</th>\n",
       "      <td>1475314821</td>\n",
       "      <td>30.46</td>\n",
       "      <td>167.56</td>\n",
       "      <td>79</td>\n",
       "      <td>1.25</td>\n",
       "      <td>13.50</td>\n",
       "      <td>48</td>\n",
       "    </tr>\n",
       "    <tr>\n",
       "      <th>4</th>\n",
       "      <td>1475314522</td>\n",
       "      <td>30.47</td>\n",
       "      <td>177.81</td>\n",
       "      <td>79</td>\n",
       "      <td>1.27</td>\n",
       "      <td>15.75</td>\n",
       "      <td>48</td>\n",
       "    </tr>\n",
       "  </tbody>\n",
       "</table>\n",
       "</div>"
      ],
      "text/plain": [
       "    unix_time  barometric  direction  humidity  radiation  speed  temp\n",
       "0  1475315718       30.46     151.95        80       1.27   7.87    48\n",
       "1  1475315423       30.46     176.14        79       1.25   7.87    48\n",
       "2  1475315124       30.46     177.54        79       1.25   9.00    48\n",
       "3  1475314821       30.46     167.56        79       1.25  13.50    48\n",
       "4  1475314522       30.47     177.81        79       1.27  15.75    48"
      ]
     },
     "execution_count": 6,
     "metadata": {},
     "output_type": "execute_result"
    }
   ],
   "source": [
    "fea.head()"
   ]
  },
  {
   "cell_type": "code",
   "execution_count": 7,
   "metadata": {
    "collapsed": false
   },
   "outputs": [
    {
     "data": {
      "text/plain": [
       "(33133, 7)"
      ]
     },
     "execution_count": 7,
     "metadata": {},
     "output_type": "execute_result"
    }
   ],
   "source": [
    "fea.shape"
   ]
  },
  {
   "cell_type": "code",
   "execution_count": 10,
   "metadata": {
    "collapsed": false
   },
   "outputs": [
    {
     "data": {
      "text/html": [
       "<div>\n",
       "<table border=\"1\" class=\"dataframe\">\n",
       "  <thead>\n",
       "    <tr style=\"text-align: right;\">\n",
       "      <th></th>\n",
       "      <th>barometric</th>\n",
       "      <th>humidity</th>\n",
       "      <th>speed</th>\n",
       "      <th>temp</th>\n",
       "    </tr>\n",
       "  </thead>\n",
       "  <tbody>\n",
       "    <tr>\n",
       "      <th>0</th>\n",
       "      <td>30.46</td>\n",
       "      <td>80</td>\n",
       "      <td>7.87</td>\n",
       "      <td>48</td>\n",
       "    </tr>\n",
       "    <tr>\n",
       "      <th>1</th>\n",
       "      <td>30.46</td>\n",
       "      <td>79</td>\n",
       "      <td>7.87</td>\n",
       "      <td>48</td>\n",
       "    </tr>\n",
       "    <tr>\n",
       "      <th>2</th>\n",
       "      <td>30.46</td>\n",
       "      <td>79</td>\n",
       "      <td>9.00</td>\n",
       "      <td>48</td>\n",
       "    </tr>\n",
       "    <tr>\n",
       "      <th>3</th>\n",
       "      <td>30.46</td>\n",
       "      <td>79</td>\n",
       "      <td>13.50</td>\n",
       "      <td>48</td>\n",
       "    </tr>\n",
       "    <tr>\n",
       "      <th>4</th>\n",
       "      <td>30.47</td>\n",
       "      <td>79</td>\n",
       "      <td>15.75</td>\n",
       "      <td>48</td>\n",
       "    </tr>\n",
       "  </tbody>\n",
       "</table>\n",
       "</div>"
      ],
      "text/plain": [
       "   barometric  humidity  speed  temp\n",
       "0       30.46        80   7.87    48\n",
       "1       30.46        79   7.87    48\n",
       "2       30.46        79   9.00    48\n",
       "3       30.46        79  13.50    48\n",
       "4       30.47        79  15.75    48"
      ]
     },
     "execution_count": 10,
     "metadata": {},
     "output_type": "execute_result"
    }
   ],
   "source": [
    "Y = fea[\"radiation\"]\n",
    "Y.head()\n",
    "X =fea[[\"barometric\", \"humidity\", \"speed\", \"temp\"]]\n",
    "X.head()"
   ]
  },
  {
   "cell_type": "code",
   "execution_count": 11,
   "metadata": {
    "collapsed": true
   },
   "outputs": [],
   "source": [
    "from sklearn.preprocessing import MinMaxScaler\n",
    "min_max_scaler = MinMaxScaler()\n",
    "X = min_max_scaler.fit_transform(X)"
   ]
  },
  {
   "cell_type": "code",
   "execution_count": 19,
   "metadata": {
    "collapsed": false
   },
   "outputs": [],
   "source": [
    "from sklearn.model_selection import train_test_split\n",
    "X_train, X_test, y_train, y_test = train_test_split(X, Y, test_size=0.33, random_state=42)"
   ]
  },
  {
   "cell_type": "code",
   "execution_count": 20,
   "metadata": {
    "collapsed": false
   },
   "outputs": [],
   "source": [
    "# import xgboost as xgb\n",
    "# xgbmat = xgb.DMatrix(X_train,y_train)\n",
    "# params = {\"objective\": \"reg:linear\", \"booster\":\"gblinear\"}\n",
    "# gbm = xgb.train(dtrain=xgbmat,params=params)\n",
    "# testdmat = xgb.DMatrix(X_test)\n",
    "# # from sklearn.metrics import accuracy_score\n",
    "# y_pred = gbm.predict(testdmat)\n",
    "# accuracy = gbm.score(y_pred, y_test)\n",
    "# print accuracy"
   ]
  },
  {
   "cell_type": "code",
   "execution_count": null,
   "metadata": {
    "collapsed": false
   },
   "outputs": [],
   "source": [
    "from sklearn.linear_model import LinearRegression\n",
    "clf = LinearRegression()\n",
    "clf.fit(X_train, y_train)\n",
    "print clf.score(clf.predict(X_test), y_test)"
   ]
  },
  {
   "cell_type": "code",
   "execution_count": 41,
   "metadata": {
    "collapsed": false
   },
   "outputs": [],
   "source": []
  },
  {
   "cell_type": "code",
   "execution_count": 43,
   "metadata": {
    "collapsed": false
   },
   "outputs": [
    {
     "ename": "AttributeError",
     "evalue": "'Booster' object has no attribute 'score'",
     "output_type": "error",
     "traceback": [
      "\u001b[0;31m---------------------------------------------------------------------------\u001b[0m",
      "\u001b[0;31mAttributeError\u001b[0m                            Traceback (most recent call last)",
      "\u001b[0;32m<ipython-input-43-4985913ad1f6>\u001b[0m in \u001b[0;36m<module>\u001b[0;34m()\u001b[0m\n\u001b[1;32m      1\u001b[0m \u001b[0;31m# from sklearn.metrics import accuracy_score\u001b[0m\u001b[0;34m\u001b[0m\u001b[0;34m\u001b[0m\u001b[0m\n\u001b[1;32m      2\u001b[0m \u001b[0my_pred\u001b[0m \u001b[0;34m=\u001b[0m \u001b[0mgbm\u001b[0m\u001b[0;34m.\u001b[0m\u001b[0mpredict\u001b[0m\u001b[0;34m(\u001b[0m\u001b[0mtestdmat\u001b[0m\u001b[0;34m)\u001b[0m\u001b[0;34m\u001b[0m\u001b[0m\n\u001b[0;32m----> 3\u001b[0;31m \u001b[0maccuracy\u001b[0m \u001b[0;34m=\u001b[0m \u001b[0mgbm\u001b[0m\u001b[0;34m.\u001b[0m\u001b[0mscore\u001b[0m\u001b[0;34m(\u001b[0m\u001b[0my_pred\u001b[0m\u001b[0;34m,\u001b[0m \u001b[0my_test\u001b[0m\u001b[0;34m)\u001b[0m\u001b[0;34m\u001b[0m\u001b[0m\n\u001b[0m\u001b[1;32m      4\u001b[0m \u001b[0;32mprint\u001b[0m \u001b[0maccuracy\u001b[0m\u001b[0;34m\u001b[0m\u001b[0m\n",
      "\u001b[0;31mAttributeError\u001b[0m: 'Booster' object has no attribute 'score'"
     ]
    }
   ],
   "source": []
  },
  {
   "cell_type": "code",
   "execution_count": null,
   "metadata": {
    "collapsed": true
   },
   "outputs": [],
   "source": []
  }
 ],
 "metadata": {
  "anaconda-cloud": {},
  "kernelspec": {
   "display_name": "Python [conda root]",
   "language": "python",
   "name": "conda-root-py"
  },
  "language_info": {
   "codemirror_mode": {
    "name": "ipython",
    "version": 2
   },
   "file_extension": ".py",
   "mimetype": "text/x-python",
   "name": "python",
   "nbconvert_exporter": "python",
   "pygments_lexer": "ipython2",
   "version": "2.7.12"
  }
 },
 "nbformat": 4,
 "nbformat_minor": 2
}
