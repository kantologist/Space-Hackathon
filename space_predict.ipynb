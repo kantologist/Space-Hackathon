{
 "cells": [
  {
   "cell_type": "code",
   "execution_count": 17,
   "metadata": {
    "collapsed": true
   },
   "outputs": [],
   "source": [
    "import pandas as pd\n",
    "import numpy as np"
   ]
  },
  {
   "cell_type": "code",
   "execution_count": 18,
   "metadata": {
    "collapsed": false
   },
   "outputs": [],
   "source": [
    "barometric = pd.read_csv(\"barometric.csv\", names=[\"row\",\"unix_time\", \"date\", \"time\", \"barometric\", \"unnamed\"])\n",
    "direction = pd.read_csv(\"direction.csv\", names=[\"row\", \"unix_time\", \"date\", \"time\", \"direction\", \"unnamed\"])\n",
    "humidity = pd.read_csv(\"humidity.csv\", names=[\"row\", \"unix_time\", \"date\", \"time\", \"humidity\", \"unnamed\"])\n",
    "radiation = pd.read_csv(\"radiation.csv\", names=[\"row\", \"unix_time\", \"date\", \"time\", \"radiation\", \"unnamed\"])\n",
    "speed = pd.read_csv(\"speed.csv\", names=[\"row\", \"unix_time\", \"date\", \"time\", \"speed\", \"unnamed\"])\n",
    "# sunrise = pd.read_csv(\"sunrise.csv\", names=[\"row\", \"unix_time\", \"date\", \"time\", \"sunrise\", \"unnamed\"])\n",
    "# sunset = pd.read_csv(\"sunset.csv\", names=[\"row\", \"unix_time\", \"date\", \"time\", \"sunset\", \"unnamed\"])\n",
    "temperature = pd.read_csv(\"temperature.csv\", names=[\"row\", \"unix_time\", \"date\", \"time\", \"temp\", \"unnamed\"])"
   ]
  },
  {
   "cell_type": "code",
   "execution_count": 19,
   "metadata": {
    "collapsed": false
   },
   "outputs": [
    {
     "name": "stdout",
     "output_type": "stream",
     "text": [
      "198798\n",
      "198798\n",
      "198798\n",
      "198798\n",
      "198798\n",
      "(33133, 6)\n"
     ]
    }
   ],
   "source": [
    "print barometric.size\n",
    "print direction.size\n",
    "print humidity.size\n",
    "print radiation.size\n",
    "print speed.size\n",
    "# print sunrise.size\n",
    "# print sunset.shape\n",
    "print temperature.shape"
   ]
  },
  {
   "cell_type": "code",
   "execution_count": null,
   "metadata": {
    "collapsed": false
   },
   "outputs": [],
   "source": []
  },
  {
   "cell_type": "code",
   "execution_count": 20,
   "metadata": {
    "collapsed": false
   },
   "outputs": [],
   "source": [
    "features = [barometric, direction, humidity, radiation, speed, temperature]\n",
    "for feature in features:\n",
    "    feature.drop(feature.columns[[0,2,3,5]], axis=1, inplace=True)\n",
    "# feature = reduce(lambda left, right: pd.merge(left, right,on=\"unix_time\"), features)\n",
    "# features = iter(features)\n",
    "# feature = next(features)\n",
    "# for df_ in features:\n",
    "#     feature = feature.merge(df_, on='unix_time')\n",
    "# fea = pd.merge(barometric,sunrise, on=\"unix_time\")\n",
    "# fea.count(axis=0)\n",
    "# feature.count(axis=0)"
   ]
  },
  {
   "cell_type": "code",
   "execution_count": null,
   "metadata": {
    "collapsed": false
   },
   "outputs": [],
   "source": []
  },
  {
   "cell_type": "code",
   "execution_count": 21,
   "metadata": {
    "collapsed": false
   },
   "outputs": [
    {
     "data": {
      "text/plain": [
       "unix_time     33133\n",
       "barometric    33133\n",
       "direction     33133\n",
       "humidity      33133\n",
       "radiation     33133\n",
       "speed         33133\n",
       "temp          33133\n",
       "dtype: int64"
      ]
     },
     "execution_count": 21,
     "metadata": {},
     "output_type": "execute_result"
    }
   ],
   "source": [
    "fea = features[0]\n",
    "for feat in features[1:]:\n",
    "    fea= pd.merge(fea,feat, on=\"unix_time\", how=\"outer\")\n",
    "fea.count(axis=0)    "
   ]
  },
  {
   "cell_type": "code",
   "execution_count": null,
   "metadata": {
    "collapsed": false
   },
   "outputs": [],
   "source": [
    "fea.head()"
   ]
  },
  {
   "cell_type": "code",
   "execution_count": null,
   "metadata": {
    "collapsed": false
   },
   "outputs": [],
   "source": [
    "fea.shape"
   ]
  },
  {
   "cell_type": "code",
   "execution_count": 22,
   "metadata": {
    "collapsed": false
   },
   "outputs": [
    {
     "name": "stdout",
     "output_type": "stream",
     "text": [
      "0    1.27\n",
      "1    1.25\n",
      "2    1.25\n",
      "3    1.25\n",
      "4    1.27\n",
      "Name: radiation, dtype: float64\n",
      "   barometric  humidity  speed  temp  direction\n",
      "0       30.46        80   7.87    48     151.95\n",
      "1       30.46        79   7.87    48     176.14\n",
      "2       30.46        79   9.00    48     177.54\n",
      "3       30.46        79  13.50    48     167.56\n",
      "4       30.47        79  15.75    48     177.81\n"
     ]
    }
   ],
   "source": [
    "Y = fea[\"radiation\"]\n",
    "print Y.head()\n",
    "X =fea[[\"barometric\", \"humidity\", \"speed\", \"temp\", \"direction\"]]\n",
    "print X.head()"
   ]
  },
  {
   "cell_type": "code",
   "execution_count": 23,
   "metadata": {
    "collapsed": true
   },
   "outputs": [],
   "source": [
    "from sklearn.preprocessing import MinMaxScaler\n",
    "min_max_scaler = MinMaxScaler()\n",
    "X = min_max_scaler.fit_transform(X)"
   ]
  },
  {
   "cell_type": "code",
   "execution_count": null,
   "metadata": {
    "collapsed": false
   },
   "outputs": [],
   "source": [
    "# from sklearn.model_selection import train_test_split\n",
    "# X_train, X_test, y_train, y_test = train_test_split(X, Y, test_size=0.33, random_state=42)"
   ]
  },
  {
   "cell_type": "code",
   "execution_count": null,
   "metadata": {
    "collapsed": false
   },
   "outputs": [],
   "source": [
    "# import xgboost as xgb\n",
    "# xgbmat = xgb.DMatrix(X_train,y_train)\n",
    "# params = {\"objective\": \"reg:linear\", \"booster\":\"gblinear\"}\n",
    "# gbm = xgboost.XGBRegressor()\n",
    "# gbm = xgb.train(dtrain=xgbmat,params=params)\n",
    "# testdmat = xgb.DMatrix(X_test)\n",
    "# y_pred = gbm.predict(testdmat)\n",
    "# accuracy = gbm.score(y_pred, y_test)\n",
    "# print accuracy"
   ]
  },
  {
   "cell_type": "code",
   "execution_count": null,
   "metadata": {
    "collapsed": false
   },
   "outputs": [],
   "source": [
    "# from sklearn.linear_model import LinearRegression\n",
    "# clf = LinearRegression()\n",
    "# clf.fit(X_train, y_train)\n",
    "# print clf.score(clf.predict(X_test), y_test)"
   ]
  },
  {
   "cell_type": "code",
   "execution_count": 24,
   "metadata": {
    "collapsed": false
   },
   "outputs": [
    {
     "name": "stdout",
     "output_type": "stream",
     "text": [
      "Fitting 3 folds for each of 9 candidates, totalling 27 fits\n"
     ]
    },
    {
     "name": "stderr",
     "output_type": "stream",
     "text": [
      "[Parallel(n_jobs=1)]: Done  27 out of  27 | elapsed:   22.8s finished\n"
     ]
    },
    {
     "name": "stdout",
     "output_type": "stream",
     "text": [
      "0.611226710977\n",
      "{'n_estimators': 50, 'max_depth': 4}\n"
     ]
    }
   ],
   "source": [
    "import xgboost as xgb\n",
    "from sklearn.model_selection import KFold, train_test_split, GridSearchCV\n",
    "from sklearn.metrics import confusion_matrix, mean_squared_error\n",
    "rng = np.random.RandomState(31337)\n",
    "kf = KFold(n_splits=2, shuffle=True, random_state=rng)\n",
    "xgb_model = xgb.XGBRegressor()\n",
    "clf = GridSearchCV(xgb_model,\n",
    "                   {'max_depth': [2,4,6],\n",
    "                    'n_estimators': [50,100,200]}, verbose=1)\n",
    "clf.fit(X,Y)\n",
    "print(clf.best_score_)\n",
    "print(clf.best_params_)"
   ]
  },
  {
   "cell_type": "code",
   "execution_count": 25,
   "metadata": {
    "collapsed": false
   },
   "outputs": [
    {
     "name": "stdout",
     "output_type": "stream",
     "text": [
      "True\n"
     ]
    }
   ],
   "source": [
    "import pickle\n",
    "\n",
    "pickle.dump(clf, open(\"best_radiation.pkl\", \"wb\"))\n",
    "clf2 = pickle.load(open(\"best_radiation.pkl\", \"rb\"))\n",
    "print(np.allclose(clf.predict(X), clf2.predict(X)))"
   ]
  },
  {
   "cell_type": "code",
   "execution_count": 26,
   "metadata": {
    "collapsed": false
   },
   "outputs": [
    {
     "name": "stdout",
     "output_type": "stream",
     "text": [
      "(5,)\n"
     ]
    }
   ],
   "source": [
    "X= pd.Series({\"barometric\": 300, \"humidity\": 0.5,\n",
    "                  \"speed\": 203, \"temp\": 100, \"direction\": 315})\n",
    "# X = np.array([300,0.5,203,100,300,302])\n",
    "print X.shape"
   ]
  },
  {
   "cell_type": "code",
   "execution_count": 27,
   "metadata": {
    "collapsed": false
   },
   "outputs": [
    {
     "data": {
      "text/plain": [
       "array([ 489.89715576], dtype=float32)"
      ]
     },
     "execution_count": 27,
     "metadata": {},
     "output_type": "execute_result"
    }
   ],
   "source": [
    "clf2.predict(X)"
   ]
  },
  {
   "cell_type": "code",
   "execution_count": null,
   "metadata": {
    "collapsed": true
   },
   "outputs": [],
   "source": []
  }
 ],
 "metadata": {
  "anaconda-cloud": {},
  "kernelspec": {
   "display_name": "Python [conda root]",
   "language": "python",
   "name": "conda-root-py"
  },
  "language_info": {
   "codemirror_mode": {
    "name": "ipython",
    "version": 2
   },
   "file_extension": ".py",
   "mimetype": "text/x-python",
   "name": "python",
   "nbconvert_exporter": "python",
   "pygments_lexer": "ipython2",
   "version": "2.7.12"
  }
 },
 "nbformat": 4,
 "nbformat_minor": 2
}
